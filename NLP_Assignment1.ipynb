{
  "nbformat": 4,
  "nbformat_minor": 0,
  "metadata": {
    "colab": {
      "name": "NLP_Assignment1.ipynb",
      "provenance": [],
      "collapsed_sections": [],
      "include_colab_link": true
    },
    "kernelspec": {
      "name": "python3",
      "display_name": "Python 3"
    },
    "accelerator": "GPU"
  },
  "cells": [
    {
      "cell_type": "markdown",
      "metadata": {
        "id": "view-in-github",
        "colab_type": "text"
      },
      "source": [
        "<a href=\"https://colab.research.google.com/github/shreya0202/NLP/blob/master/NLP_Assignment1.ipynb\" target=\"_parent\"><img src=\"https://colab.research.google.com/assets/colab-badge.svg\" alt=\"Open In Colab\"/></a>"
      ]
    },
    {
      "cell_type": "code",
      "metadata": {
        "id": "SSr3VOUMIYL6",
        "colab_type": "code",
        "colab": {}
      },
      "source": [
        "#import pandas library for reading the dataset\n",
        "import pandas as pd\n",
        "\n",
        "#import sklearn model selection package to split data into train and test models\n",
        "from sklearn.model_selection import train_test_split\n",
        "\n",
        "#import numpy library for data manipulation\n",
        "import numpy as np "
      ],
      "execution_count": 0,
      "outputs": []
    },
    {
      "cell_type": "code",
      "metadata": {
        "id": "-sOtlXrcIkKE",
        "colab_type": "code",
        "outputId": "cf83f670-c88b-43ac-ace2-ed46d4593727",
        "colab": {
          "base_uri": "https://localhost:8080/",
          "height": 55
        }
      },
      "source": [
        "#code for connecting google drive to access the dataset that is stored there\n",
        "from google.colab import drive\n",
        "drive.mount('/content/drive')"
      ],
      "execution_count": 0,
      "outputs": [
        {
          "output_type": "stream",
          "text": [
            "Drive already mounted at /content/drive; to attempt to forcibly remount, call drive.mount(\"/content/drive\", force_remount=True).\n"
          ],
          "name": "stdout"
        }
      ]
    },
    {
      "cell_type": "code",
      "metadata": {
        "id": "EN2ApjlZJFCc",
        "colab_type": "code",
        "outputId": "234eeb0f-5a25-46ca-bd18-5e346d93681e",
        "colab": {
          "base_uri": "https://localhost:8080/",
          "height": 393
        }
      },
      "source": [
        "#reading CSV file and storing in a variable\n",
        "dataset = pd.read_csv('/content/drive/My Drive/housing.csv')\n",
        "\n",
        "#removing null values\n",
        "dataset = dataset.dropna()\n",
        "\n",
        "print(\"Here are the first five roes of the dataset: \")\n",
        "#printing first 10 records of dataset\n",
        "dataset.head(10)"
      ],
      "execution_count": 0,
      "outputs": [
        {
          "output_type": "stream",
          "text": [
            "Here are the first five roes of the dataset: \n"
          ],
          "name": "stdout"
        },
        {
          "output_type": "execute_result",
          "data": {
            "text/html": [
              "<div>\n",
              "<style scoped>\n",
              "    .dataframe tbody tr th:only-of-type {\n",
              "        vertical-align: middle;\n",
              "    }\n",
              "\n",
              "    .dataframe tbody tr th {\n",
              "        vertical-align: top;\n",
              "    }\n",
              "\n",
              "    .dataframe thead th {\n",
              "        text-align: right;\n",
              "    }\n",
              "</style>\n",
              "<table border=\"1\" class=\"dataframe\">\n",
              "  <thead>\n",
              "    <tr style=\"text-align: right;\">\n",
              "      <th></th>\n",
              "      <th>longitude</th>\n",
              "      <th>latitude</th>\n",
              "      <th>housing_median_age</th>\n",
              "      <th>total_rooms</th>\n",
              "      <th>total_bedrooms</th>\n",
              "      <th>population</th>\n",
              "      <th>households</th>\n",
              "      <th>median_income</th>\n",
              "      <th>median_house_value</th>\n",
              "      <th>ocean_proximity</th>\n",
              "    </tr>\n",
              "  </thead>\n",
              "  <tbody>\n",
              "    <tr>\n",
              "      <th>0</th>\n",
              "      <td>-122.23</td>\n",
              "      <td>37.88</td>\n",
              "      <td>41.0</td>\n",
              "      <td>880.0</td>\n",
              "      <td>129.0</td>\n",
              "      <td>322.0</td>\n",
              "      <td>126.0</td>\n",
              "      <td>8.3252</td>\n",
              "      <td>452600.0</td>\n",
              "      <td>NEAR BAY</td>\n",
              "    </tr>\n",
              "    <tr>\n",
              "      <th>1</th>\n",
              "      <td>-122.22</td>\n",
              "      <td>37.86</td>\n",
              "      <td>21.0</td>\n",
              "      <td>7099.0</td>\n",
              "      <td>1106.0</td>\n",
              "      <td>2401.0</td>\n",
              "      <td>1138.0</td>\n",
              "      <td>8.3014</td>\n",
              "      <td>358500.0</td>\n",
              "      <td>NEAR BAY</td>\n",
              "    </tr>\n",
              "    <tr>\n",
              "      <th>2</th>\n",
              "      <td>-122.24</td>\n",
              "      <td>37.85</td>\n",
              "      <td>52.0</td>\n",
              "      <td>1467.0</td>\n",
              "      <td>190.0</td>\n",
              "      <td>496.0</td>\n",
              "      <td>177.0</td>\n",
              "      <td>7.2574</td>\n",
              "      <td>352100.0</td>\n",
              "      <td>NEAR BAY</td>\n",
              "    </tr>\n",
              "    <tr>\n",
              "      <th>3</th>\n",
              "      <td>-122.25</td>\n",
              "      <td>37.85</td>\n",
              "      <td>52.0</td>\n",
              "      <td>1274.0</td>\n",
              "      <td>235.0</td>\n",
              "      <td>558.0</td>\n",
              "      <td>219.0</td>\n",
              "      <td>5.6431</td>\n",
              "      <td>341300.0</td>\n",
              "      <td>NEAR BAY</td>\n",
              "    </tr>\n",
              "    <tr>\n",
              "      <th>4</th>\n",
              "      <td>-122.25</td>\n",
              "      <td>37.85</td>\n",
              "      <td>52.0</td>\n",
              "      <td>1627.0</td>\n",
              "      <td>280.0</td>\n",
              "      <td>565.0</td>\n",
              "      <td>259.0</td>\n",
              "      <td>3.8462</td>\n",
              "      <td>342200.0</td>\n",
              "      <td>NEAR BAY</td>\n",
              "    </tr>\n",
              "    <tr>\n",
              "      <th>5</th>\n",
              "      <td>-122.25</td>\n",
              "      <td>37.85</td>\n",
              "      <td>52.0</td>\n",
              "      <td>919.0</td>\n",
              "      <td>213.0</td>\n",
              "      <td>413.0</td>\n",
              "      <td>193.0</td>\n",
              "      <td>4.0368</td>\n",
              "      <td>269700.0</td>\n",
              "      <td>NEAR BAY</td>\n",
              "    </tr>\n",
              "    <tr>\n",
              "      <th>6</th>\n",
              "      <td>-122.25</td>\n",
              "      <td>37.84</td>\n",
              "      <td>52.0</td>\n",
              "      <td>2535.0</td>\n",
              "      <td>489.0</td>\n",
              "      <td>1094.0</td>\n",
              "      <td>514.0</td>\n",
              "      <td>3.6591</td>\n",
              "      <td>299200.0</td>\n",
              "      <td>NEAR BAY</td>\n",
              "    </tr>\n",
              "    <tr>\n",
              "      <th>7</th>\n",
              "      <td>-122.25</td>\n",
              "      <td>37.84</td>\n",
              "      <td>52.0</td>\n",
              "      <td>3104.0</td>\n",
              "      <td>687.0</td>\n",
              "      <td>1157.0</td>\n",
              "      <td>647.0</td>\n",
              "      <td>3.1200</td>\n",
              "      <td>241400.0</td>\n",
              "      <td>NEAR BAY</td>\n",
              "    </tr>\n",
              "    <tr>\n",
              "      <th>8</th>\n",
              "      <td>-122.26</td>\n",
              "      <td>37.84</td>\n",
              "      <td>42.0</td>\n",
              "      <td>2555.0</td>\n",
              "      <td>665.0</td>\n",
              "      <td>1206.0</td>\n",
              "      <td>595.0</td>\n",
              "      <td>2.0804</td>\n",
              "      <td>226700.0</td>\n",
              "      <td>NEAR BAY</td>\n",
              "    </tr>\n",
              "    <tr>\n",
              "      <th>9</th>\n",
              "      <td>-122.25</td>\n",
              "      <td>37.84</td>\n",
              "      <td>52.0</td>\n",
              "      <td>3549.0</td>\n",
              "      <td>707.0</td>\n",
              "      <td>1551.0</td>\n",
              "      <td>714.0</td>\n",
              "      <td>3.6912</td>\n",
              "      <td>261100.0</td>\n",
              "      <td>NEAR BAY</td>\n",
              "    </tr>\n",
              "  </tbody>\n",
              "</table>\n",
              "</div>"
            ],
            "text/plain": [
              "   longitude  latitude  ...  median_house_value  ocean_proximity\n",
              "0    -122.23     37.88  ...            452600.0         NEAR BAY\n",
              "1    -122.22     37.86  ...            358500.0         NEAR BAY\n",
              "2    -122.24     37.85  ...            352100.0         NEAR BAY\n",
              "3    -122.25     37.85  ...            341300.0         NEAR BAY\n",
              "4    -122.25     37.85  ...            342200.0         NEAR BAY\n",
              "5    -122.25     37.85  ...            269700.0         NEAR BAY\n",
              "6    -122.25     37.84  ...            299200.0         NEAR BAY\n",
              "7    -122.25     37.84  ...            241400.0         NEAR BAY\n",
              "8    -122.26     37.84  ...            226700.0         NEAR BAY\n",
              "9    -122.25     37.84  ...            261100.0         NEAR BAY\n",
              "\n",
              "[10 rows x 10 columns]"
            ]
          },
          "metadata": {
            "tags": []
          },
          "execution_count": 18
        }
      ]
    },
    {
      "cell_type": "code",
      "metadata": {
        "id": "TbR6c-24Jiki",
        "colab_type": "code",
        "outputId": "f3d2a836-29b8-483a-bc01-9412ac900dfa",
        "colab": {
          "base_uri": "https://localhost:8080/",
          "height": 442
        }
      },
      "source": [
        "import matplotlib.pyplot as plt\n",
        "import seaborn as sns\n",
        "df = pd.DataFrame(dataset)\n",
        "df.columns\n",
        "plt.figure\n",
        "df.plot(subplots=True, figsize=(6,6))\n",
        "plt.tight_layout()\n",
        "plt.show()\n",
        "#df.iloc[0:9].plot()\n",
        "#df.plot(subplots=True, layout=(1,10), ylim=[0,10])\n",
        "#dataset.plot()\n",
        "#df['longitude'].iloc[0:10]\n",
        "# data_frame = df.drop(columns=['ocean_proximity'])\n",
        "# df1 = pd.DataFrame(data_frame)\n",
        "# fig, axs = plt.subplots(9)\n",
        "# #fig.suptitle('Sharing both axes')\n",
        "# axs[0].plot(range(10), df1['longitude'].iloc[:10])\n",
        "# axs[1].plot(range(10), df1['latitude'].iloc[:10])\n",
        "# axs[2].plot(range(10), df1['housing_median_age'].iloc[:10])\n",
        "# axs[3].plot(range(10), df1['total_rooms'].iloc[:10])\n",
        "# axs[4].plot(range(10), df1['total_bedrooms'].iloc[:10])\n",
        "# axs[5].plot(range(10), df1['population'].iloc[:10])\n",
        "# axs[6].plot(range(10), df1['households'].iloc[:10])\n",
        "# axs[7].plot(range(10), df1['median_income'].iloc[:10])\n",
        "# axs[8].plot(range(10), df1['median_house_value'].iloc[:10])\n"
      ],
      "execution_count": 0,
      "outputs": [
        {
          "output_type": "display_data",
          "data": {
            "image/png": "[encoded data removed]",
            "text/plain": [
              "<Figure size 432x432 with 9 Axes>"
            ]
          },
          "metadata": {
            "tags": []
          }
        }
      ]
    },
    {
      "cell_type": "code",
      "metadata": {
        "id": "YhFVCb7li9s5",
        "colab_type": "code",
        "colab": {}
      },
      "source": [
        "#output Y is the median housing value to be predicted\n",
        "Y = dataset['median_house_value']\n",
        "\n",
        "#input x contains remaining columns from longitude to median income\n",
        "X = dataset.loc[:,'longitude':'median_income']"
      ],
      "execution_count": 0,
      "outputs": []
    },
    {
      "cell_type": "code",
      "metadata": {
        "id": "HxDNZBlEksJQ",
        "colab_type": "code",
        "colab": {}
      },
      "source": [
        "#splitting dataset into 70% training and 30% testing  \n",
        "#setting random state to 2003 for generating same random sequence each time\n",
        "x_train, x_test, y_train, y_test = train_test_split(X, Y, test_size=0.3, random_state = 2003)\n",
        "\n",
        "#converting train and test data to  numpy arrays\n",
        "x_train_np = x_train.to_numpy()\n",
        "y_train_np = y_train.to_numpy()\n",
        "x_test_np = x_test.to_numpy()\n",
        "y_test_np = y_test.to_numpy()\n"
      ],
      "execution_count": 0,
      "outputs": []
    },
    {
      "cell_type": "code",
      "metadata": {
        "id": "NboZ82BEmG4i",
        "colab_type": "code",
        "colab": {}
      },
      "source": [
        "#importing PyTorch library\n",
        "import torch\n",
        "\n",
        "#importing 1D convolution layer\n",
        "from torch.nn import Conv1d\n",
        "\n",
        "#importing max pool layer\n",
        "from torch.nn import MaxPool1d\n",
        "\n",
        "#importing flatten layer\n",
        "from torch.nn import Flatten\n",
        "\n",
        "#importing linear layer\n",
        "from torch.nn import Linear\n",
        "\n",
        "\n",
        "#importing relu function\n",
        "from torch.nn.functional import relu\n",
        "\n",
        "#importing dataloaded and tensordataset from pytorch\n",
        "from torch.utils.data import DataLoader, TensorDataset"
      ],
      "execution_count": 0,
      "outputs": []
    },
    {
      "cell_type": "code",
      "metadata": {
        "id": "34Bq0Jfsm0U4",
        "colab_type": "code",
        "colab": {}
      },
      "source": [
        "class CnnRegressor(torch.nn.Module):\n",
        "  #defining initialization method\n",
        "  def __init__(self, batch_size, inputs, outputs):\n",
        "    #initializing super class and storing parameters\n",
        "    super(CnnRegressor, self).__init__()\n",
        "    self.batch_size = batch_size\n",
        "    self.inputs = inputs\n",
        "    self.outputs = outputs\n",
        "    #defining input layer with kernel size 3\n",
        "    self.input_layer = Conv1d(inputs, batch_size,1)\n",
        "    #defining max pooling layer with kernel size 3\n",
        "    self.max_pooling_layer = MaxPool1d(1)\n",
        "    #defining convolution layer with kernel size 3\n",
        "    self.conv_layer = Conv1d(batch_size, 128, 1)\n",
        "    #defining flatter layer\n",
        "    self.flattern_layer = Flatten()\n",
        "    #defining sequential layer\n",
        "    self.linear_layer = Linear(128, 64)\n",
        "    #defining sequential output layer\n",
        "    self.output_layer = Linear(64, outputs)\n",
        "\n",
        "#method to feed inputs to the model\n",
        "  def feed(self, input):\n",
        "    #reshaping the input to be feed to the input layer\n",
        "    input = input.reshape((self.batch_size, self.inputs, 1))\n",
        "    #passing the input through relu function and getting output for first layer\n",
        "    output = relu(self.input_layer(input))\n",
        "    #passing output of the first layer as input in max pooling layer\n",
        "    output = self.max_pooling_layer(output)\n",
        "    #passing output of the second layer as input in relu function\n",
        "    output = relu(self.conv_layer(output))\n",
        "    #getting output for flatten layer\n",
        "    output = self.flattern_layer(output)\n",
        "    #getting output for linear layer\n",
        "    output = self.linear_layer(output)\n",
        "    #getting final output\n",
        "    output = self.output_layer(output)\n",
        "    return output\n",
        "\n"
      ],
      "execution_count": 0,
      "outputs": []
    },
    {
      "cell_type": "code",
      "metadata": {
        "id": "Dx3nk9Xb6fCC",
        "colab_type": "code",
        "outputId": "525e6ba3-6575-466f-efb0-0394b5078a22",
        "colab": {
          "base_uri": "https://localhost:8080/",
          "height": 52
        }
      },
      "source": [
        "#import Stochastic gradient descent package from PyTorch\n",
        "from torch.optim import SGD\n",
        "\n",
        "#import mean absolute error loss package from PyTorch\n",
        "from torch.nn import L1Loss\n",
        "\n",
        "#import r^2 score package from pytorch's ignite\n",
        "!pip install pytorch-ignite\n",
        "from ignite.contrib.metrics.regression.r2_score import R2Score"
      ],
      "execution_count": 0,
      "outputs": [
        {
          "output_type": "stream",
          "text": [
            "Requirement already satisfied: pytorch-ignite in /usr/local/lib/python3.6/dist-packages (0.3.0)\n",
            "Requirement already satisfied: torch in /usr/local/lib/python3.6/dist-packages (from pytorch-ignite) (1.4.0)\n"
          ],
          "name": "stdout"
        }
      ]
    },
    {
      "cell_type": "code",
      "metadata": {
        "id": "8S2uoqd17el6",
        "colab_type": "code",
        "outputId": "a4fa8d73-d10c-4505-fca7-89e0231df1dc",
        "colab": {
          "base_uri": "https://localhost:8080/",
          "height": 156
        }
      },
      "source": [
        "#setting up batch size\n",
        "batch_size = 64\n",
        "#calling the CNN regressor function to build the model\n",
        "model = CnnRegressor(batch_size, X.shape[1], 1)\n",
        "#passing off the model to GPU for processing\n",
        "model.cuda()"
      ],
      "execution_count": 0,
      "outputs": [
        {
          "output_type": "execute_result",
          "data": {
            "text/plain": [
              "CnnRegressor(\n",
              "  (input_layer): Conv1d(8, 64, kernel_size=(1,), stride=(1,))\n",
              "  (max_pooling_layer): MaxPool1d(kernel_size=1, stride=1, padding=0, dilation=1, ceil_mode=False)\n",
              "  (conv_layer): Conv1d(64, 128, kernel_size=(1,), stride=(1,))\n",
              "  (flattern_layer): Flatten()\n",
              "  (linear_layer): Linear(in_features=128, out_features=64, bias=True)\n",
              "  (output_layer): Linear(in_features=64, out_features=1, bias=True)\n",
              ")"
            ]
          },
          "metadata": {
            "tags": []
          },
          "execution_count": 25
        }
      ]
    },
    {
      "cell_type": "code",
      "metadata": {
        "id": "QH8wvKDq8KV6",
        "colab_type": "code",
        "colab": {}
      },
      "source": [
        "#method to return MSE and R^2 scores\n",
        "def model_loss(model, dataset, train = False, optimizer = None):\n",
        "  performance = L1Loss()\n",
        "  score_metric = R2Score()\n",
        "  avg_loss = 0\n",
        "  avg_score = 0\n",
        "  count = 0\n",
        "  for input, output in iter(dataset):\n",
        "    #getting prediction for training dataset\n",
        "    predictions = model.feed(input)\n",
        "    #getting the MSE loss\n",
        "    loss = performance(predictions, output)\n",
        "    #getting R^2 score\n",
        "    score_metric.update([predictions, output])\n",
        "    score = score_metric.compute()\n",
        "\n",
        "    if(train):\n",
        "      #clear errors\n",
        "      optimizer.zero_grad()\n",
        "      #compute gradients\n",
        "      loss.backward()\n",
        "      #update parameters based on gradients\n",
        "      optimizer.step()\n",
        "    \n",
        "    #storing the loss and updating counter\n",
        "    avg_loss += loss.item()\n",
        "    avg_score += score\n",
        "    count += 1\n",
        " #returning MSE and R^2 scores per count\n",
        "  return avg_loss / count, avg_score / count"
      ],
      "execution_count": 0,
      "outputs": []
    },
    {
      "cell_type": "code",
      "metadata": {
        "id": "xvLsTJuN9YdH",
        "colab_type": "code",
        "outputId": "8e05595e-84bd-4ea2-d3db-4150c3f5c599",
        "colab": {
          "base_uri": "https://localhost:8080/",
          "height": 1000
        }
      },
      "source": [
        "#Block to obtain training loss and r^2 score\n",
        "epochs = 60\n",
        "optimizer = SGD(model.parameters(), lr=1e-5)\n",
        "inputs = torch.from_numpy(x_train_np).cuda().float()\n",
        "outputs = torch.from_numpy(y_train_np.reshape(y_train_np.shape[0],1)).cuda().float()\n",
        "\n",
        "tensor = TensorDataset(inputs, outputs)\n",
        "loader = DataLoader(tensor, batch_size, shuffle=True, drop_last=True)\n",
        "\n",
        "for epoch in range(epochs):\n",
        "  avg_loss, avg_r2_score = model_loss(model, loader, train=True, optimizer=optimizer)\n",
        "\n",
        "  print(\"The Training Resulting Epoch : \" + str(epoch + 1) + \":\\n\\tAverage Loss = \" + str(avg_loss) + \"\\n\\tR2 Score = \" + str(avg_r2_score))\n",
        "\n",
        "#saving the trained model in drive\n",
        "torch.save(model.state_dict(), '/content/drive/My Drive/110534_1dconv_reg.pth')"
      ],
      "execution_count": 0,
      "outputs": [
        {
          "output_type": "stream",
          "text": [
            "The Training Resulting Epoch : 1:\n",
            "\tAverage Loss = 133110.72663256727\n",
            "\tR2 Score = -2.156364449296962\n",
            "The Training Resulting Epoch : 2:\n",
            "\tAverage Loss = 115509.91486827354\n",
            "\tR2 Score = -1.0218092517167183\n",
            "The Training Resulting Epoch : 3:\n",
            "\tAverage Loss = 112943.37822309417\n",
            "\tR2 Score = -0.9506149941655513\n",
            "The Training Resulting Epoch : 4:\n",
            "\tAverage Loss = 109790.5344030269\n",
            "\tR2 Score = -0.8308431893293535\n",
            "The Training Resulting Epoch : 5:\n",
            "\tAverage Loss = 107924.9448920964\n",
            "\tR2 Score = -0.7705355042771546\n",
            "The Training Resulting Epoch : 6:\n",
            "\tAverage Loss = 105000.9573640695\n",
            "\tR2 Score = -0.7239588182782412\n",
            "The Training Resulting Epoch : 7:\n",
            "\tAverage Loss = 103460.87281039798\n",
            "\tR2 Score = -0.5109414452522206\n",
            "The Training Resulting Epoch : 8:\n",
            "\tAverage Loss = 101124.55503783633\n",
            "\tR2 Score = -0.3672103337764175\n",
            "The Training Resulting Epoch : 9:\n",
            "\tAverage Loss = 98744.14889293721\n",
            "\tR2 Score = -0.41070649999030256\n",
            "The Training Resulting Epoch : 10:\n",
            "\tAverage Loss = 95136.52280689462\n",
            "\tR2 Score = -0.2688898387120551\n",
            "The Training Resulting Epoch : 11:\n",
            "\tAverage Loss = 95409.8174922926\n",
            "\tR2 Score = -0.31100085053783755\n",
            "The Training Resulting Epoch : 12:\n",
            "\tAverage Loss = 93462.50684907511\n",
            "\tR2 Score = -0.2305942091051678\n",
            "The Training Resulting Epoch : 13:\n",
            "\tAverage Loss = 93318.94145880044\n",
            "\tR2 Score = -0.17916204635243457\n",
            "The Training Resulting Epoch : 14:\n",
            "\tAverage Loss = 91721.91148752802\n",
            "\tR2 Score = -0.24197221293955712\n",
            "The Training Resulting Epoch : 15:\n",
            "\tAverage Loss = 91320.92236547085\n",
            "\tR2 Score = -0.11651726690029487\n",
            "The Training Resulting Epoch : 16:\n",
            "\tAverage Loss = 91255.49639153587\n",
            "\tR2 Score = -0.0999413840696137\n",
            "The Training Resulting Epoch : 17:\n",
            "\tAverage Loss = 89934.66301149104\n",
            "\tR2 Score = -0.07791479362829021\n",
            "The Training Resulting Epoch : 18:\n",
            "\tAverage Loss = 90513.51741171525\n",
            "\tR2 Score = -0.11685630887317884\n",
            "The Training Resulting Epoch : 19:\n",
            "\tAverage Loss = 88907.10849915919\n",
            "\tR2 Score = -0.03024282839213069\n",
            "The Training Resulting Epoch : 20:\n",
            "\tAverage Loss = 88032.44035524104\n",
            "\tR2 Score = -0.02773121419355821\n",
            "The Training Resulting Epoch : 21:\n",
            "\tAverage Loss = 87809.20776695627\n",
            "\tR2 Score = -0.0024292943249528114\n",
            "The Training Resulting Epoch : 22:\n",
            "\tAverage Loss = 87450.40705577354\n",
            "\tR2 Score = -0.06413019281401511\n",
            "The Training Resulting Epoch : 23:\n",
            "\tAverage Loss = 88721.19636350896\n",
            "\tR2 Score = -0.03353400125344402\n",
            "The Training Resulting Epoch : 24:\n",
            "\tAverage Loss = 87012.05328615471\n",
            "\tR2 Score = 0.018117180030423053\n",
            "The Training Resulting Epoch : 25:\n",
            "\tAverage Loss = 86804.34410033633\n",
            "\tR2 Score = 0.008960486398673785\n",
            "The Training Resulting Epoch : 26:\n",
            "\tAverage Loss = 86773.53412275785\n",
            "\tR2 Score = 0.02010251890836337\n",
            "The Training Resulting Epoch : 27:\n",
            "\tAverage Loss = 85352.64859515135\n",
            "\tR2 Score = 0.044986663451344576\n",
            "The Training Resulting Epoch : 28:\n",
            "\tAverage Loss = 86134.52792180494\n",
            "\tR2 Score = -0.013240743223622481\n",
            "The Training Resulting Epoch : 29:\n",
            "\tAverage Loss = 84435.15674047085\n",
            "\tR2 Score = 0.048327392658969\n",
            "The Training Resulting Epoch : 30:\n",
            "\tAverage Loss = 86780.28391255606\n",
            "\tR2 Score = -0.036880744235776496\n",
            "The Training Resulting Epoch : 31:\n",
            "\tAverage Loss = 84884.33069997198\n",
            "\tR2 Score = 0.0975416384348798\n",
            "The Training Resulting Epoch : 32:\n",
            "\tAverage Loss = 84746.1528867713\n",
            "\tR2 Score = 0.010540315069666654\n",
            "The Training Resulting Epoch : 33:\n",
            "\tAverage Loss = 84531.15064461883\n",
            "\tR2 Score = 0.09554883463533702\n",
            "The Training Resulting Epoch : 34:\n",
            "\tAverage Loss = 85404.44494464686\n",
            "\tR2 Score = 0.056670534211835065\n",
            "The Training Resulting Epoch : 35:\n",
            "\tAverage Loss = 84573.74318595852\n",
            "\tR2 Score = 0.057335168632816506\n",
            "The Training Resulting Epoch : 36:\n",
            "\tAverage Loss = 82561.48412976458\n",
            "\tR2 Score = 0.1043191079293318\n",
            "The Training Resulting Epoch : 37:\n",
            "\tAverage Loss = 83116.34021160314\n",
            "\tR2 Score = 0.10829904146301313\n",
            "The Training Resulting Epoch : 38:\n",
            "\tAverage Loss = 83885.96783912556\n",
            "\tR2 Score = 0.0872297348521014\n",
            "The Training Resulting Epoch : 39:\n",
            "\tAverage Loss = 83492.42099915919\n",
            "\tR2 Score = 0.06132768594740391\n",
            "The Training Resulting Epoch : 40:\n",
            "\tAverage Loss = 82436.59131516256\n",
            "\tR2 Score = 0.07306307158727102\n",
            "The Training Resulting Epoch : 41:\n",
            "\tAverage Loss = 83254.36156460202\n",
            "\tR2 Score = 0.13006719030554703\n",
            "The Training Resulting Epoch : 42:\n",
            "\tAverage Loss = 81460.22076443386\n",
            "\tR2 Score = 0.1478141110511455\n",
            "The Training Resulting Epoch : 43:\n",
            "\tAverage Loss = 84311.85455787556\n",
            "\tR2 Score = 0.07625805186576542\n",
            "The Training Resulting Epoch : 44:\n",
            "\tAverage Loss = 82096.43965456838\n",
            "\tR2 Score = 0.08829027495876789\n",
            "The Training Resulting Epoch : 45:\n",
            "\tAverage Loss = 81617.34611477017\n",
            "\tR2 Score = 0.11815173585946112\n",
            "The Training Resulting Epoch : 46:\n",
            "\tAverage Loss = 81609.47064181614\n",
            "\tR2 Score = 0.1470863745634748\n",
            "The Training Resulting Epoch : 47:\n",
            "\tAverage Loss = 81854.49062850336\n",
            "\tR2 Score = 0.13040586674679064\n",
            "The Training Resulting Epoch : 48:\n",
            "\tAverage Loss = 82037.28522631727\n",
            "\tR2 Score = 0.11749693019171752\n",
            "The Training Resulting Epoch : 49:\n",
            "\tAverage Loss = 81485.28245866031\n",
            "\tR2 Score = 0.15824715876391335\n",
            "The Training Resulting Epoch : 50:\n",
            "\tAverage Loss = 81640.70461392937\n",
            "\tR2 Score = 0.15199491229695491\n",
            "The Training Resulting Epoch : 51:\n",
            "\tAverage Loss = 80826.44457679373\n",
            "\tR2 Score = 0.14955486682547597\n",
            "The Training Resulting Epoch : 52:\n",
            "\tAverage Loss = 82914.58884529148\n",
            "\tR2 Score = 0.1187062707937333\n",
            "The Training Resulting Epoch : 53:\n",
            "\tAverage Loss = 81734.56773752802\n",
            "\tR2 Score = 0.1366044281886735\n",
            "The Training Resulting Epoch : 54:\n",
            "\tAverage Loss = 80716.72549397421\n",
            "\tR2 Score = 0.13369208448165715\n",
            "The Training Resulting Epoch : 55:\n",
            "\tAverage Loss = 81297.50763733184\n",
            "\tR2 Score = 0.1511253077544649\n",
            "The Training Resulting Epoch : 56:\n",
            "\tAverage Loss = 80643.96251401346\n",
            "\tR2 Score = 0.17046101449289586\n",
            "The Training Resulting Epoch : 57:\n",
            "\tAverage Loss = 80184.92129694506\n",
            "\tR2 Score = 0.1634245134105091\n",
            "The Training Resulting Epoch : 58:\n",
            "\tAverage Loss = 80851.85480311098\n",
            "\tR2 Score = 0.14090139527752613\n",
            "The Training Resulting Epoch : 59:\n",
            "\tAverage Loss = 79988.43856852579\n",
            "\tR2 Score = 0.16918022015914638\n",
            "The Training Resulting Epoch : 60:\n",
            "\tAverage Loss = 80858.4433506166\n",
            "\tR2 Score = 0.14808003186221694\n"
          ],
          "name": "stdout"
        }
      ]
    },
    {
      "cell_type": "code",
      "metadata": {
        "id": "4CMQ1aRtFSn3",
        "colab_type": "code",
        "outputId": "637ed11a-7b21-4f39-81ab-fd958d3a2064",
        "colab": {
          "base_uri": "https://localhost:8080/",
          "height": 52
        }
      },
      "source": [
        "#Block to obtain testing loss and r^2 score\n",
        "optimizer = SGD(model.parameters(), lr=1e-5)\n",
        "inputs = torch.from_numpy(x_test_np).cuda().float()\n",
        "outputs = torch.from_numpy(y_test_np.reshape(y_test_np.shape[0],1)).cuda().float()\n",
        "\n",
        "tensor = TensorDataset(inputs, outputs)\n",
        "loader = DataLoader(tensor, batch_size, shuffle=True, drop_last=True)\n",
        "\n",
        "avg_loss, avg_r2_score = model_loss(model, loader, train=False, optimizer=optimizer)\n",
        "\n",
        "print(\"The Testing Resulting Average Loss = \" + str(avg_loss) + \"\\n\\tR2 Score = \" + str(avg_r2_score))"
      ],
      "execution_count": 0,
      "outputs": [
        {
          "output_type": "stream",
          "text": [
            "The Testing Resulting Average Loss = 84266.78511513158\n",
            "\tR2 Score = 0.06620782089316948\n"
          ],
          "name": "stdout"
        }
      ]
    },
    {
      "cell_type": "code",
      "metadata": {
        "id": "6Iqdc6kj7Un1",
        "colab_type": "code",
        "outputId": "5ad7ed1d-95ab-4bcb-a746-9c0b47a93d0b",
        "colab": {
          "base_uri": "https://localhost:8080/",
          "height": 156
        }
      },
      "source": [
        "#loading model to evaluate\n",
        "model.load_state_dict(torch.load('/content/drive/My Drive/110534_1dconv_reg.pth'))\n",
        "model.eval()"
      ],
      "execution_count": 0,
      "outputs": [
        {
          "output_type": "execute_result",
          "data": {
            "text/plain": [
              "CnnRegressor(\n",
              "  (input_layer): Conv1d(8, 64, kernel_size=(1,), stride=(1,))\n",
              "  (max_pooling_layer): MaxPool1d(kernel_size=1, stride=1, padding=0, dilation=1, ceil_mode=False)\n",
              "  (conv_layer): Conv1d(64, 128, kernel_size=(1,), stride=(1,))\n",
              "  (flattern_layer): Flatten()\n",
              "  (linear_layer): Linear(in_features=128, out_features=64, bias=True)\n",
              "  (output_layer): Linear(in_features=64, out_features=1, bias=True)\n",
              ")"
            ]
          },
          "metadata": {
            "tags": []
          },
          "execution_count": 30
        }
      ]
    }
  ]
}