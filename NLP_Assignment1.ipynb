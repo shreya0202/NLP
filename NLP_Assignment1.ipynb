{
  "nbformat": 4,
  "nbformat_minor": 0,
  "metadata": {
    "colab": {
      "name": "NLP_Assignment1.ipynb",
      "provenance": [],
      "collapsed_sections": [],
      "include_colab_link": true
    },
    "kernelspec": {
      "name": "python3",
      "display_name": "Python 3"
    },
    "accelerator": "GPU"
  },
  "cells": [
    {
      "cell_type": "markdown",
      "metadata": {
        "id": "view-in-github",
        "colab_type": "text"
      },
      "source": [
        "<a href=\"https://colab.research.google.com/github/shreya0202/NLP/blob/master/NLP_Assignment1.ipynb\" target=\"_parent\"><img src=\"https://colab.research.google.com/assets/colab-badge.svg\" alt=\"Open In Colab\"/></a>"
      ]
    },
    {
      "cell_type": "markdown",
      "metadata": {
        "colab_type": "text",
        "id": "5fCEDCU_qrC0"
      },
      "source": [
        "<p><img alt=\"Colaboratory logo\" height=\"45px\" src=\"/img/colab_favicon.ico\" align=\"left\" hspace=\"10px\" vspace=\"0px\"></p>\n",
        "\n",
        "<h1>Welcome to Colaboratory!</h1>\n",
        "\n",
        "\n",
        "Colaboratory is a free Jupyter notebook environment that requires no setup and runs entirely in the cloud.\n",
        "\n",
        "With Colaboratory you can write and execute code, save and share your analyses, and access powerful computing resources, all for free from your browser."
      ]
    },
    {
      "cell_type": "code",
      "metadata": {
        "id": "SSr3VOUMIYL6",
        "colab_type": "code",
        "colab": {}
      },
      "source": [
        "#import pandas library for reading the dataset\n",
        "import pandas as pd\n",
        "\n",
        "#import sklearn model selection package to split data into train and test models\n",
        "from sklearn.model_selection import train_test_split\n",
        "\n",
        "#import numpy library for data manipulation\n",
        "import numpy as np "
      ],
      "execution_count": 0,
      "outputs": []
    },
    {
      "cell_type": "code",
      "metadata": {
        "id": "-sOtlXrcIkKE",
        "colab_type": "code",
        "outputId": "84fafb26-9d41-47b1-ba4e-daa16b6d83b8",
        "colab": {
          "base_uri": "https://localhost:8080/",
          "height": 35
        }
      },
      "source": [
        "#code for connecting google drive to access the dataset that is stored there\n",
        "from google.colab import drive\n",
        "drive.mount('/content/drive')"
      ],
      "execution_count": 6,
      "outputs": [
        {
          "output_type": "stream",
          "text": [
            "Drive already mounted at /content/drive; to attempt to forcibly remount, call drive.mount(\"/content/drive\", force_remount=True).\n"
          ],
          "name": "stdout"
        }
      ]
    },
    {
      "cell_type": "code",
      "metadata": {
        "id": "EN2ApjlZJFCc",
        "colab_type": "code",
        "colab": {
          "base_uri": "https://localhost:8080/",
          "height": 373
        },
        "outputId": "6d049472-835d-45ce-c486-8e7ee1efd80c"
      },
      "source": [
        "#reading CSV file and storing in a variable\n",
        "dataset = pd.read_csv('/content/drive/My Drive/housing.csv')\n",
        "\n",
        "#removing null values\n",
        "dataset = dataset.dropna()\n",
        "\n",
        "print(\"Here are the first five roes of the dataset: \")\n",
        "#printing first 10 records of dataset\n",
        "dataset.head(10)"
      ],
      "execution_count": 7,
      "outputs": [
        {
          "output_type": "stream",
          "text": [
            "Here are the first five roes of the dataset: \n"
          ],
          "name": "stdout"
        },
        {
          "output_type": "execute_result",
          "data": {
            "text/html": [
              "<div>\n",
              "<style scoped>\n",
              "    .dataframe tbody tr th:only-of-type {\n",
              "        vertical-align: middle;\n",
              "    }\n",
              "\n",
              "    .dataframe tbody tr th {\n",
              "        vertical-align: top;\n",
              "    }\n",
              "\n",
              "    .dataframe thead th {\n",
              "        text-align: right;\n",
              "    }\n",
              "</style>\n",
              "<table border=\"1\" class=\"dataframe\">\n",
              "  <thead>\n",
              "    <tr style=\"text-align: right;\">\n",
              "      <th></th>\n",
              "      <th>longitude</th>\n",
              "      <th>latitude</th>\n",
              "      <th>housing_median_age</th>\n",
              "      <th>total_rooms</th>\n",
              "      <th>total_bedrooms</th>\n",
              "      <th>population</th>\n",
              "      <th>households</th>\n",
              "      <th>median_income</th>\n",
              "      <th>median_house_value</th>\n",
              "      <th>ocean_proximity</th>\n",
              "    </tr>\n",
              "  </thead>\n",
              "  <tbody>\n",
              "    <tr>\n",
              "      <th>0</th>\n",
              "      <td>-122.23</td>\n",
              "      <td>37.88</td>\n",
              "      <td>41.0</td>\n",
              "      <td>880.0</td>\n",
              "      <td>129.0</td>\n",
              "      <td>322.0</td>\n",
              "      <td>126.0</td>\n",
              "      <td>8.3252</td>\n",
              "      <td>452600.0</td>\n",
              "      <td>NEAR BAY</td>\n",
              "    </tr>\n",
              "    <tr>\n",
              "      <th>1</th>\n",
              "      <td>-122.22</td>\n",
              "      <td>37.86</td>\n",
              "      <td>21.0</td>\n",
              "      <td>7099.0</td>\n",
              "      <td>1106.0</td>\n",
              "      <td>2401.0</td>\n",
              "      <td>1138.0</td>\n",
              "      <td>8.3014</td>\n",
              "      <td>358500.0</td>\n",
              "      <td>NEAR BAY</td>\n",
              "    </tr>\n",
              "    <tr>\n",
              "      <th>2</th>\n",
              "      <td>-122.24</td>\n",
              "      <td>37.85</td>\n",
              "      <td>52.0</td>\n",
              "      <td>1467.0</td>\n",
              "      <td>190.0</td>\n",
              "      <td>496.0</td>\n",
              "      <td>177.0</td>\n",
              "      <td>7.2574</td>\n",
              "      <td>352100.0</td>\n",
              "      <td>NEAR BAY</td>\n",
              "    </tr>\n",
              "    <tr>\n",
              "      <th>3</th>\n",
              "      <td>-122.25</td>\n",
              "      <td>37.85</td>\n",
              "      <td>52.0</td>\n",
              "      <td>1274.0</td>\n",
              "      <td>235.0</td>\n",
              "      <td>558.0</td>\n",
              "      <td>219.0</td>\n",
              "      <td>5.6431</td>\n",
              "      <td>341300.0</td>\n",
              "      <td>NEAR BAY</td>\n",
              "    </tr>\n",
              "    <tr>\n",
              "      <th>4</th>\n",
              "      <td>-122.25</td>\n",
              "      <td>37.85</td>\n",
              "      <td>52.0</td>\n",
              "      <td>1627.0</td>\n",
              "      <td>280.0</td>\n",
              "      <td>565.0</td>\n",
              "      <td>259.0</td>\n",
              "      <td>3.8462</td>\n",
              "      <td>342200.0</td>\n",
              "      <td>NEAR BAY</td>\n",
              "    </tr>\n",
              "    <tr>\n",
              "      <th>5</th>\n",
              "      <td>-122.25</td>\n",
              "      <td>37.85</td>\n",
              "      <td>52.0</td>\n",
              "      <td>919.0</td>\n",
              "      <td>213.0</td>\n",
              "      <td>413.0</td>\n",
              "      <td>193.0</td>\n",
              "      <td>4.0368</td>\n",
              "      <td>269700.0</td>\n",
              "      <td>NEAR BAY</td>\n",
              "    </tr>\n",
              "    <tr>\n",
              "      <th>6</th>\n",
              "      <td>-122.25</td>\n",
              "      <td>37.84</td>\n",
              "      <td>52.0</td>\n",
              "      <td>2535.0</td>\n",
              "      <td>489.0</td>\n",
              "      <td>1094.0</td>\n",
              "      <td>514.0</td>\n",
              "      <td>3.6591</td>\n",
              "      <td>299200.0</td>\n",
              "      <td>NEAR BAY</td>\n",
              "    </tr>\n",
              "    <tr>\n",
              "      <th>7</th>\n",
              "      <td>-122.25</td>\n",
              "      <td>37.84</td>\n",
              "      <td>52.0</td>\n",
              "      <td>3104.0</td>\n",
              "      <td>687.0</td>\n",
              "      <td>1157.0</td>\n",
              "      <td>647.0</td>\n",
              "      <td>3.1200</td>\n",
              "      <td>241400.0</td>\n",
              "      <td>NEAR BAY</td>\n",
              "    </tr>\n",
              "    <tr>\n",
              "      <th>8</th>\n",
              "      <td>-122.26</td>\n",
              "      <td>37.84</td>\n",
              "      <td>42.0</td>\n",
              "      <td>2555.0</td>\n",
              "      <td>665.0</td>\n",
              "      <td>1206.0</td>\n",
              "      <td>595.0</td>\n",
              "      <td>2.0804</td>\n",
              "      <td>226700.0</td>\n",
              "      <td>NEAR BAY</td>\n",
              "    </tr>\n",
              "    <tr>\n",
              "      <th>9</th>\n",
              "      <td>-122.25</td>\n",
              "      <td>37.84</td>\n",
              "      <td>52.0</td>\n",
              "      <td>3549.0</td>\n",
              "      <td>707.0</td>\n",
              "      <td>1551.0</td>\n",
              "      <td>714.0</td>\n",
              "      <td>3.6912</td>\n",
              "      <td>261100.0</td>\n",
              "      <td>NEAR BAY</td>\n",
              "    </tr>\n",
              "  </tbody>\n",
              "</table>\n",
              "</div>"
            ],
            "text/plain": [
              "   longitude  latitude  ...  median_house_value  ocean_proximity\n",
              "0    -122.23     37.88  ...            452600.0         NEAR BAY\n",
              "1    -122.22     37.86  ...            358500.0         NEAR BAY\n",
              "2    -122.24     37.85  ...            352100.0         NEAR BAY\n",
              "3    -122.25     37.85  ...            341300.0         NEAR BAY\n",
              "4    -122.25     37.85  ...            342200.0         NEAR BAY\n",
              "5    -122.25     37.85  ...            269700.0         NEAR BAY\n",
              "6    -122.25     37.84  ...            299200.0         NEAR BAY\n",
              "7    -122.25     37.84  ...            241400.0         NEAR BAY\n",
              "8    -122.26     37.84  ...            226700.0         NEAR BAY\n",
              "9    -122.25     37.84  ...            261100.0         NEAR BAY\n",
              "\n",
              "[10 rows x 10 columns]"
            ]
          },
          "metadata": {
            "tags": []
          },
          "execution_count": 7
        }
      ]
    },
    {
      "cell_type": "code",
      "metadata": {
        "id": "TbR6c-24Jiki",
        "colab_type": "code",
        "outputId": "860b09b7-9ddd-4e75-f45b-27df9c0f8375",
        "colab": {
          "base_uri": "https://localhost:8080/",
          "height": 450
        }
      },
      "source": [
        "import matplotlib.pyplot as plt\n",
        "import seaborn as sns\n",
        "df = pd.DataFrame(dataset)\n",
        "df.columns\n",
        "plt.figure\n",
        "#df.iloc[0:9].plot()\n",
        "#df.plot(subplots=True, layout=(1,10), ylim=[0,10])\n",
        "#dataset.plot()\n",
        "#df['longitude'].iloc[0:10]\n",
        "data_frame = df.drop(columns=['ocean_proximity'])\n",
        "df1 = pd.DataFrame(data_frame)\n",
        "fig, axs = plt.subplots(9, sharex=True, sharey=True)\n",
        "fig.suptitle('Sharing both axes')\n",
        "axs[0].plot(df1[:10], df1['longitude'].iloc[:10])\n",
        "axs[1].plot(df1[:10], df1['latitude'].iloc[:10])\n",
        "axs[2].plot(df1[:10], df1['housing_median_age'].iloc[:10])\n",
        "axs[3].plot(df1[:10], df1['total_rooms'].iloc[:10])\n",
        "axs[4].plot(df1[:10], df1['total_bedrooms'].iloc[:10])\n",
        "axs[5].plot(df1[:10], df1['population'].iloc[:10])\n",
        "axs[6].plot(df1[:10], df1['households'].iloc[:10])\n",
        "axs[7].plot(df1[:10], df1['median_income'].iloc[:10])\n",
        "axs[8].plot(df1[:10], df1['median_house_value'].iloc[:10])\n"
      ],
      "execution_count": 21,
      "outputs": [
        {
          "output_type": "execute_result",
          "data": {
            "text/plain": [
              "[<matplotlib.lines.Line2D at 0x7f05a5498908>,\n",
              " <matplotlib.lines.Line2D at 0x7f05a5498a20>,\n",
              " <matplotlib.lines.Line2D at 0x7f05a5498b70>,\n",
              " <matplotlib.lines.Line2D at 0x7f05a5498cc0>,\n",
              " <matplotlib.lines.Line2D at 0x7f05a5498e10>,\n",
              " <matplotlib.lines.Line2D at 0x7f05a5498f60>,\n",
              " <matplotlib.lines.Line2D at 0x7f05a54a40f0>,\n",
              " <matplotlib.lines.Line2D at 0x7f05a54a4240>,\n",
              " <matplotlib.lines.Line2D at 0x7f05a54a4390>]"
            ]
          },
          "metadata": {
            "tags": []
          },
          "execution_count": 21
        },
        {
          "output_type": "display_data",
          "data": {
            "image/png": "[encoded data removed]",
            "text/plain": [
              "<Figure size 432x288 with 9 Axes>"
            ]
          },
          "metadata": {
            "tags": []
          }
        }
      ]
    },
    {
      "cell_type": "code",
      "metadata": {
        "id": "YhFVCb7li9s5",
        "colab_type": "code",
        "colab": {}
      },
      "source": [
        "#output Y is the median housing value to be predicted\n",
        "Y = dataset['median_house_value']\n",
        "\n",
        "#input x contains remaining columns from longitude to median income\n",
        "X = dataset.loc[:,'longitude':'median_income']"
      ],
      "execution_count": 0,
      "outputs": []
    },
    {
      "cell_type": "code",
      "metadata": {
        "id": "HxDNZBlEksJQ",
        "colab_type": "code",
        "colab": {}
      },
      "source": [
        "#splitting dataset into 70% training and 30% testing  \n",
        "#setting random state to 2003 for generating same random sequence each time\n",
        "x_train, x_test, y_train, y_test = train_test_split(X, Y, test_size=0.3, random_state = 2003)\n",
        "\n",
        "#converting train and test data to  numpy arrays\n",
        "x_train_np = x_train.to_numpy()\n",
        "y_train_np = y_train.to_numpy()\n",
        "x_test_np = x_test.to_numpy()\n",
        "y_test = y_test.to_numpy()\n"
      ],
      "execution_count": 0,
      "outputs": []
    },
    {
      "cell_type": "code",
      "metadata": {
        "id": "NboZ82BEmG4i",
        "colab_type": "code",
        "colab": {}
      },
      "source": [
        "#importing PyTorch library\n",
        "import torch\n",
        "\n",
        "#importing 1D convolution layer\n",
        "from torch.nn import Conv1d\n",
        "\n",
        "#importing max pool layer\n",
        "from torch.nn import MaxPool1d\n",
        "\n",
        "#importing flatten layer\n",
        "from torch.nn import Flatten\n",
        "\n",
        "#importing linear layer\n",
        "from torch.nn import Linear\n",
        "\n",
        "#importing relu function\n",
        "from torch.nn.functional import relu\n",
        "\n",
        "#importing dataloaded and tensordataset from pytorch\n",
        "from torch.utils.data import DataLoader, TensorDataset"
      ],
      "execution_count": 0,
      "outputs": []
    },
    {
      "cell_type": "code",
      "metadata": {
        "id": "34Bq0Jfsm0U4",
        "colab_type": "code",
        "colab": {}
      },
      "source": [
        "class CnnRegressor(torch.nn.Module):\n",
        "  #defining initialization method\n",
        "  def __init__(self, batch_size, inputs, outputs):\n",
        "    #initializing super class and storing parameters\n",
        "    super(CnnRegressor, self).__init__()\n",
        "    self.batch_size = batch_size\n",
        "    self.inputs = inputs\n",
        "    self.outputs = outputs\n",
        "    #defining input layer with kernel size 3\n",
        "    self.input_layer = Conv1d(inputs, batch_size,1)\n",
        "    #defining max pooling layer with kernel size 3\n",
        "    self.max_pooling_layer = MaxPool1d(1)\n",
        "    #defining convolution layer with kernel size 3\n",
        "    self.conv_layer = Conv1d(batch_size, 128, 1)\n",
        "    #defining flatter layer\n",
        "    self.flattern_layer = Flatten()\n",
        "    #defining linear layer\n",
        "    self.linear_layer = Linear(128, 64)\n",
        "    #defining output layer\n",
        "    self.output_layer = Linear(64, outputs)\n",
        "\n",
        "#method to feed inputs to the model\n",
        "  def feed(self, input):\n",
        "    #reshaping the input to be feed to the input layer\n",
        "    input = input.reshape((self.batch_size, self.inputs, 1))\n",
        "    #passing the input through relu function and getting output for first layer\n",
        "    output = relu(self.input_layer(input))\n",
        "    #passing output of the first layer as input in max pooling layer\n",
        "    output = self.max_pooling_layer(output)\n",
        "    #passing output of the second layer as input in relu function\n",
        "    output = relu(self.conv_layer(output))\n",
        "    #getting output for flatten layer\n",
        "    output = self.flattern_layer(output)\n",
        "    #getting output for linear layer\n",
        "    output = self.linear_layer(output)\n",
        "    #getting final output\n",
        "    output = self.output_layer(output)\n",
        "    return output\n",
        "\n"
      ],
      "execution_count": 0,
      "outputs": []
    },
    {
      "cell_type": "code",
      "metadata": {
        "id": "Dx3nk9Xb6fCC",
        "colab_type": "code",
        "outputId": "40e06fd4-a369-4128-8dfb-cfbda770889c",
        "colab": {
          "base_uri": "https://localhost:8080/",
          "height": 69
        }
      },
      "source": [
        "#import Stochastic gradient descent package from PyTorch\n",
        "from torch.optim import SGD\n",
        "\n",
        "#import mean absolute error loss package from PyTorch\n",
        "from torch.nn import L1Loss\n",
        "\n",
        "#import r^2 score package from pytorch's ignite\n",
        "!pip install pytorch-ignite\n",
        "from ignite.contrib.metrics.regression.r2_score import R2Score"
      ],
      "execution_count": 0,
      "outputs": [
        {
          "output_type": "stream",
          "text": [
            "Requirement already satisfied: pytorch-ignite in /usr/local/lib/python3.6/dist-packages (0.3.0)\n",
            "Requirement already satisfied: torch in /usr/local/lib/python3.6/dist-packages (from pytorch-ignite) (1.3.1)\n",
            "Requirement already satisfied: numpy in /usr/local/lib/python3.6/dist-packages (from torch->pytorch-ignite) (1.17.5)\n"
          ],
          "name": "stdout"
        }
      ]
    },
    {
      "cell_type": "code",
      "metadata": {
        "id": "8S2uoqd17el6",
        "colab_type": "code",
        "outputId": "4711769b-6e18-4457-9dfc-b3fe04c8ab58",
        "colab": {
          "base_uri": "https://localhost:8080/",
          "height": 156
        }
      },
      "source": [
        "#setting up batch size\n",
        "batch_size = 64\n",
        "#calling the CNN regressor function to build the model\n",
        "model = CnnRegressor(batch_size, X.shape[1], 1)\n",
        "#passing off the model to GPU for processing\n",
        "model.cuda()"
      ],
      "execution_count": 0,
      "outputs": [
        {
          "output_type": "execute_result",
          "data": {
            "text/plain": [
              "CnnRegressor(\n",
              "  (input_layer): Conv1d(8, 64, kernel_size=(1,), stride=(1,))\n",
              "  (max_pooling_layer): MaxPool1d(kernel_size=1, stride=1, padding=0, dilation=1, ceil_mode=False)\n",
              "  (conv_layer): Conv1d(64, 128, kernel_size=(1,), stride=(1,))\n",
              "  (flattern_layer): Flatten()\n",
              "  (linear_layer): Linear(in_features=128, out_features=64, bias=True)\n",
              "  (output_layer): Linear(in_features=64, out_features=1, bias=True)\n",
              ")"
            ]
          },
          "metadata": {
            "tags": []
          },
          "execution_count": 78
        }
      ]
    },
    {
      "cell_type": "code",
      "metadata": {
        "id": "QH8wvKDq8KV6",
        "colab_type": "code",
        "colab": {}
      },
      "source": [
        "#method to return MSE and R^2 scores\n",
        "def model_loss(model, dataset, train = False, optimizer = None):\n",
        "  performance = L1Loss()\n",
        "  score_metric = R2Score()\n",
        "  avg_loss = 0\n",
        "  avg_score = 0\n",
        "  count = 0\n",
        "  for input, output in iter(dataset):\n",
        "    #getting prediction for training dataset\n",
        "    predictions = model.feed(input)\n",
        "    #getting the MSE loss\n",
        "    loss = performance(predictions, output)\n",
        "    #getting R^2 score\n",
        "    score_metric.update([predictions, output])\n",
        "    score = score_metric.compute()\n",
        "\n",
        "    if(train):\n",
        "      #clear errors\n",
        "      optimizer.zero_grad()\n",
        "      #compute gradients\n",
        "      loss.backward()\n",
        "      #update parameters based on gradients\n",
        "      optimizer.step()\n",
        "    \n",
        "    #storing the loss and updating counter\n",
        "    avg_loss += loss.item()\n",
        "    avg_score += score\n",
        "    count += 1\n",
        " #returning MSE and R^2 scores per count\n",
        "  return avg_loss / count, avg_score / count"
      ],
      "execution_count": 0,
      "outputs": []
    },
    {
      "cell_type": "code",
      "metadata": {
        "id": "xvLsTJuN9YdH",
        "colab_type": "code",
        "outputId": "14fc9e04-ff5b-471d-eeff-486e137cdace",
        "colab": {
          "base_uri": "https://localhost:8080/",
          "height": 537
        }
      },
      "source": [
        "epochs = 10\n",
        "optimizer = SGD(model.parameters(), lr=1e-5)\n",
        "inputs = torch.from_numpy(x_train_np).cuda().float()\n",
        "outputs = torch.from_numpy(y_train_np.reshape(y_train_np.shape[0],1)).cuda().float()\n",
        "\n",
        "tensor = TensorDataset(inputs, outputs)\n",
        "loader = DataLoader(tensor, batch_size, shuffle=True, drop_last=True)\n",
        "\n",
        "for epoch in range(epochs):\n",
        "  avg_loss, avg_r2_score = model_loss(model, loader, train=True, optimizer=optimizer)\n",
        "\n",
        "  print(\"Epoch : \" + str(epoch + 1) + \":\\n\\tLoss = \" + str(avg_loss) + \"\\n\\tR^2 Score = \" + str(avg_r2_score))\n"
      ],
      "execution_count": 0,
      "outputs": [
        {
          "output_type": "stream",
          "text": [
            "Epoch : 1:\n",
            "\tLoss = 138722.05048346412\n",
            "\tR^2 Score = -2.2682592513871533\n",
            "Epoch : 2:\n",
            "\tLoss = 117082.88225196188\n",
            "\tR^2 Score = -1.0741728478363748\n",
            "Epoch : 3:\n",
            "\tLoss = 115275.87591087444\n",
            "\tR^2 Score = -1.0272656474671917\n",
            "Epoch : 4:\n",
            "\tLoss = 111167.12387892377\n",
            "\tR^2 Score = -0.7699610614792418\n",
            "Epoch : 5:\n",
            "\tLoss = 110399.92821608744\n",
            "\tR^2 Score = -0.8107905496344203\n",
            "Epoch : 6:\n",
            "\tLoss = 107486.58916059417\n",
            "\tR^2 Score = -0.673028576827464\n",
            "Epoch : 7:\n",
            "\tLoss = 104506.82087303812\n",
            "\tR^2 Score = -0.7009303081137338\n",
            "Epoch : 8:\n",
            "\tLoss = 103075.18021300448\n",
            "\tR^2 Score = -0.5690634589991117\n",
            "Epoch : 9:\n",
            "\tLoss = 100052.5456838565\n",
            "\tR^2 Score = -0.4204172195595252\n",
            "Epoch : 10:\n",
            "\tLoss = 97889.78615470852\n",
            "\tR^2 Score = -0.32725088863365676\n"
          ],
          "name": "stdout"
        }
      ]
    },
    {
      "cell_type": "code",
      "metadata": {
        "id": "4CMQ1aRtFSn3",
        "colab_type": "code",
        "colab": {}
      },
      "source": [
        ""
      ],
      "execution_count": 0,
      "outputs": []
    }
  ]
}